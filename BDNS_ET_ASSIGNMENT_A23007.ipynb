{
  "nbformat": 4,
  "nbformat_minor": 0,
  "metadata": {
    "colab": {
      "provenance": []
    },
    "kernelspec": {
      "name": "python3",
      "display_name": "Python 3"
    },
    "language_info": {
      "name": "python"
    }
  },
  "cells": [
    {
      "cell_type": "code",
      "source": [
        "from datetime import datetime\n",
        "import pytz\n",
        "print('Tested',datetime.now(pytz.timezone('Asia/Calcutta')))"
      ],
      "metadata": {
        "colab": {
          "base_uri": "https://localhost:8080/"
        },
        "id": "WERCf1flJV4M",
        "outputId": "7d5f043d-3a74-4088-b5b6-7b0d5d00127f"
      },
      "execution_count": null,
      "outputs": [
        {
          "output_type": "stream",
          "name": "stdout",
          "text": [
            "Tested 2024-01-07 00:35:45.743982+05:30\n"
          ]
        }
      ]
    },
    {
      "cell_type": "markdown",
      "source": [
        "**INITIALIZING SPARK**"
      ],
      "metadata": {
        "id": "ME8q0WlZVWxX"
      }
    },
    {
      "cell_type": "code",
      "source": [
        "!pip3 -q install pyspark\n",
        "from pyspark.sql import SparkSession\n",
        "spark = SparkSession.builder.appName('Arghya_ET_Assignment').master(\"local[*]\").getOrCreate()\n",
        "sc = spark.sparkContext\n",
        "sc"
      ],
      "metadata": {
        "colab": {
          "base_uri": "https://localhost:8080/",
          "height": 248
        },
        "id": "USz3ygMbJYtF",
        "outputId": "ba4dc58b-0fea-4af6-9ec5-b648a7da7cc3"
      },
      "execution_count": null,
      "outputs": [
        {
          "output_type": "stream",
          "name": "stdout",
          "text": [
            "\u001b[2K     \u001b[90m━━━━━━━━━━━━━━━━━━━━━━━━━━━━━━━━━━━━━━━━\u001b[0m \u001b[32m316.9/316.9 MB\u001b[0m \u001b[31m2.0 MB/s\u001b[0m eta \u001b[36m0:00:00\u001b[0m\n",
            "\u001b[?25h  Preparing metadata (setup.py) ... \u001b[?25l\u001b[?25hdone\n",
            "  Building wheel for pyspark (setup.py) ... \u001b[?25l\u001b[?25hdone\n"
          ]
        },
        {
          "output_type": "execute_result",
          "data": {
            "text/plain": [
              "<SparkContext master=local[*] appName=Arghya_ET_Assignment>"
            ],
            "text/html": [
              "\n",
              "        <div>\n",
              "            <p><b>SparkContext</b></p>\n",
              "\n",
              "            <p><a href=\"http://369235fad988:4040\">Spark UI</a></p>\n",
              "\n",
              "            <dl>\n",
              "              <dt>Version</dt>\n",
              "                <dd><code>v3.5.0</code></dd>\n",
              "              <dt>Master</dt>\n",
              "                <dd><code>local[*]</code></dd>\n",
              "              <dt>AppName</dt>\n",
              "                <dd><code>Arghya_ET_Assignment</code></dd>\n",
              "            </dl>\n",
              "        </div>\n",
              "        "
            ]
          },
          "metadata": {},
          "execution_count": 2
        }
      ]
    },
    {
      "cell_type": "code",
      "source": [
        "# Importing Necessary Libraries and Modules\n",
        "import warnings\n",
        "import pandas as pd\n",
        "import seaborn as sns\n",
        "\n",
        "# Suppress warnings to maintain a clean output\n",
        "warnings.filterwarnings(\"ignore\", category=DeprecationWarning)\n",
        "warnings.filterwarnings(\"ignore\", category=FutureWarning)"
      ],
      "metadata": {
        "id": "98k8qnPWJYyu"
      },
      "execution_count": null,
      "outputs": []
    },
    {
      "cell_type": "code",
      "source": [
        "# Configure Pandas display options\n",
        "pd.set_option('display.max_columns', None)\n",
        "pd.set_option('display.float_format', lambda x: '%.2f' % x)"
      ],
      "metadata": {
        "id": "Mw9xJd_5JY2u"
      },
      "execution_count": null,
      "outputs": []
    },
    {
      "cell_type": "code",
      "source": [
        "# Using the wget command to download the dataset from a given URL\n",
        "!wget -O cardekho_dataset.csv -q https://raw.githubusercontent.com/ArghyaRC/Cardekho_dataset/main/cardekho_dataset.csv"
      ],
      "metadata": {
        "id": "8pUREJg2JY6S"
      },
      "execution_count": null,
      "outputs": []
    },
    {
      "cell_type": "code",
      "source": [
        "#loading dataset into spark dataframe\n",
        "df = spark.read.csv(\"cardekho_dataset.csv\", header=True, inferSchema=True)\n",
        "# df\n",
        "type(df)"
      ],
      "metadata": {
        "colab": {
          "base_uri": "https://localhost:8080/"
        },
        "id": "oG1-qNV0JY9k",
        "outputId": "f8489198-2f38-486a-a22d-adcf5a7e4cbd"
      },
      "execution_count": null,
      "outputs": [
        {
          "output_type": "execute_result",
          "data": {
            "text/plain": [
              "pyspark.sql.dataframe.DataFrame"
            ]
          },
          "metadata": {},
          "execution_count": 20
        }
      ]
    },
    {
      "cell_type": "code",
      "source": [
        "from pyspark.sql import SparkSession\n",
        "from pyspark.ml.feature import StandardScaler\n",
        "spark = SparkSession.builder.appName('Praxis').getOrCreate()\n",
        "from pyspark.sql import SparkSession\n",
        "from pyspark.conf import SparkConf\n",
        "from pyspark.sql.types import *\n",
        "import pyspark.sql.functions as F\n",
        "from pyspark.sql.functions import col, asc,desc\n",
        "import matplotlib.pyplot as plt\n",
        "import numpy as np\n",
        "import seaborn as sns\n",
        "from pyspark.sql import SQLContext\n",
        "from pyspark.mllib.stat import Statistics\n",
        "import pandas as pd\n",
        "from pyspark.sql.functions import udf\n",
        "from pyspark.ml.feature import OneHotEncoder, StringIndexer, VectorAssembler,StandardScaler\n",
        "from pyspark.ml import Pipeline\n",
        "from sklearn.metrics import confusion_matrix"
      ],
      "metadata": {
        "id": "7wvk4stcRsTe"
      },
      "execution_count": null,
      "outputs": []
    },
    {
      "cell_type": "code",
      "source": [
        "df.show(5)"
      ],
      "metadata": {
        "colab": {
          "base_uri": "https://localhost:8080/"
        },
        "id": "r03fwykvaSPw",
        "outputId": "352f7bc9-261f-449c-ff67-3b4b9933b7e7"
      },
      "execution_count": null,
      "outputs": [
        {
          "output_type": "stream",
          "name": "stdout",
          "text": [
            "+--------------------+----+-------------+---------+------+-----------+------------+------------+\n",
            "|                name|year|selling_price|km_driven|  fuel|seller_type|transmission|       owner|\n",
            "+--------------------+----+-------------+---------+------+-----------+------------+------------+\n",
            "|       Maruti 800 AC|2007|        60000|    70000|Petrol| Individual|      Manual| First Owner|\n",
            "|Maruti Wagon R LX...|2007|       135000|    50000|Petrol| Individual|      Manual| First Owner|\n",
            "|Hyundai Verna 1.6 SX|2012|       600000|   100000|Diesel| Individual|      Manual| First Owner|\n",
            "|Datsun RediGO T O...|2017|       250000|    46000|Petrol| Individual|      Manual| First Owner|\n",
            "|Honda Amaze VX i-...|2014|       450000|   141000|Diesel| Individual|      Manual|Second Owner|\n",
            "+--------------------+----+-------------+---------+------+-----------+------------+------------+\n",
            "only showing top 5 rows\n",
            "\n"
          ]
        }
      ]
    },
    {
      "cell_type": "code",
      "source": [
        "# printing out the schema of our dataframe\n",
        "df.printSchema()"
      ],
      "metadata": {
        "colab": {
          "base_uri": "https://localhost:8080/"
        },
        "id": "Cz0fzMhxbryu",
        "outputId": "79997b9c-fc67-40df-f95c-a9f301ccbc1c"
      },
      "execution_count": null,
      "outputs": [
        {
          "output_type": "stream",
          "name": "stdout",
          "text": [
            "root\n",
            " |-- name: string (nullable = true)\n",
            " |-- year: integer (nullable = true)\n",
            " |-- selling_price: integer (nullable = true)\n",
            " |-- km_driven: integer (nullable = true)\n",
            " |-- fuel: string (nullable = true)\n",
            " |-- seller_type: string (nullable = true)\n",
            " |-- transmission: string (nullable = true)\n",
            " |-- owner: string (nullable = true)\n",
            "\n"
          ]
        }
      ]
    },
    {
      "cell_type": "code",
      "source": [
        "df = df.withColumn(\"year\", df[\"year\"].cast('integer'))\n",
        "df = df.withColumn(\"selling_price\", df[\"selling_price\"].cast('integer'))\n",
        "df = df.withColumn(\"km_driven\", df[\"km_driven\"].cast('integer'))"
      ],
      "metadata": {
        "id": "ctXnR_ORruIG"
      },
      "execution_count": null,
      "outputs": []
    },
    {
      "cell_type": "code",
      "source": [
        "df.printSchema()"
      ],
      "metadata": {
        "colab": {
          "base_uri": "https://localhost:8080/"
        },
        "id": "y7O_Yhxgs1nB",
        "outputId": "5766f607-4418-42b2-c51d-6e793728e24c"
      },
      "execution_count": null,
      "outputs": [
        {
          "output_type": "stream",
          "name": "stdout",
          "text": [
            "root\n",
            " |-- Car_Name: string (nullable = true)\n",
            " |-- year: integer (nullable = true)\n",
            " |-- selling_price: integer (nullable = true)\n",
            " |-- Kms_Driven: integer (nullable = true)\n",
            " |-- Fuel_Type: string (nullable = true)\n",
            " |-- Seller_Type: string (nullable = true)\n",
            " |-- Transmission: string (nullable = true)\n",
            " |-- Owner: string (nullable = true)\n",
            "\n"
          ]
        }
      ]
    },
    {
      "cell_type": "code",
      "source": [
        "# checking for null values in the dataset\n",
        "\n",
        "df.toPandas().isnull().sum()"
      ],
      "metadata": {
        "colab": {
          "base_uri": "https://localhost:8080/"
        },
        "id": "c-ouplqOb1vU",
        "outputId": "8895086c-0e33-4e5a-c8ee-e54f44a0045e"
      },
      "execution_count": null,
      "outputs": [
        {
          "output_type": "execute_result",
          "data": {
            "text/plain": [
              "name             0\n",
              "year             0\n",
              "selling_price    0\n",
              "km_driven        0\n",
              "fuel             0\n",
              "seller_type      0\n",
              "transmission     0\n",
              "owner            0\n",
              "dtype: int64"
            ]
          },
          "metadata": {},
          "execution_count": 25
        }
      ]
    },
    {
      "cell_type": "code",
      "source": [
        "# checking for cardinality in name\n",
        "df.toPandas().value_counts('name')"
      ],
      "metadata": {
        "colab": {
          "base_uri": "https://localhost:8080/"
        },
        "id": "2gjhFGPLpjtL",
        "outputId": "6d2e9496-2804-4cf5-c4ff-e15c7fbba747"
      },
      "execution_count": null,
      "outputs": [
        {
          "output_type": "execute_result",
          "data": {
            "text/plain": [
              "name\n",
              "Maruti Swift Dzire VDI                  69\n",
              "Maruti Alto 800 LXI                     59\n",
              "Maruti Alto LXi                         47\n",
              "Hyundai EON Era Plus                    35\n",
              "Maruti Alto LX                          35\n",
              "                                        ..\n",
              "Mahindra KUV 100 G80 K4 Plus             1\n",
              "Mahindra KUV 100 mFALCON D75 K8          1\n",
              "Mahindra KUV 100 mFALCON D75 K8 AW       1\n",
              "Mahindra KUV 100 mFALCON G80 K2 Plus     1\n",
              "Volvo XC60 D5 Inscription                1\n",
              "Length: 1491, dtype: int64"
            ]
          },
          "metadata": {},
          "execution_count": 26
        }
      ]
    },
    {
      "cell_type": "code",
      "source": [
        "# checking for cardinality in seller\n",
        "df.toPandas()['seller_type'].value_counts()"
      ],
      "metadata": {
        "colab": {
          "base_uri": "https://localhost:8080/"
        },
        "id": "41eSkHGzptUb",
        "outputId": "9a16a089-05d3-4e52-9d94-f6b6769f230e"
      },
      "execution_count": null,
      "outputs": [
        {
          "output_type": "execute_result",
          "data": {
            "text/plain": [
              "Individual          3244\n",
              "Dealer               994\n",
              "Trustmark Dealer     102\n",
              "Name: seller_type, dtype: int64"
            ]
          },
          "metadata": {},
          "execution_count": 27
        }
      ]
    },
    {
      "cell_type": "code",
      "source": [
        "# checking for cardinality offerType\n",
        "df.toPandas()['fuel'].value_counts()"
      ],
      "metadata": {
        "colab": {
          "base_uri": "https://localhost:8080/"
        },
        "id": "bq6c192hp7G9",
        "outputId": "5188f9b6-ad6f-46b0-e0e6-5e4d13a39c6d"
      },
      "execution_count": null,
      "outputs": [
        {
          "output_type": "execute_result",
          "data": {
            "text/plain": [
              "Diesel      2153\n",
              "Petrol      2123\n",
              "CNG           40\n",
              "LPG           23\n",
              "Electric       1\n",
              "Name: fuel, dtype: int64"
            ]
          },
          "metadata": {},
          "execution_count": 28
        }
      ]
    },
    {
      "cell_type": "code",
      "source": [
        "# checking for cardinality in transmission\n",
        "df.toPandas()['owner'].value_counts()"
      ],
      "metadata": {
        "colab": {
          "base_uri": "https://localhost:8080/"
        },
        "id": "mKYmzbL-qAnD",
        "outputId": "0e1b04e4-7680-415a-c6af-2895de4d548c"
      },
      "execution_count": null,
      "outputs": [
        {
          "output_type": "execute_result",
          "data": {
            "text/plain": [
              "First Owner             2832\n",
              "Second Owner            1106\n",
              "Third Owner              304\n",
              "Fourth & Above Owner      81\n",
              "Test Drive Car            17\n",
              "Name: owner, dtype: int64"
            ]
          },
          "metadata": {},
          "execution_count": 29
        }
      ]
    },
    {
      "cell_type": "code",
      "source": [
        "# taking out the numeric features\n",
        "numeric_features = [t[0] for t in df.dtypes if t[1] == 'int']\n",
        "numeric_features_df= df.select(numeric_features)\n",
        "numeric_features_df.describe().toPandas().transpose()"
      ],
      "metadata": {
        "colab": {
          "base_uri": "https://localhost:8080/",
          "height": 175
        },
        "id": "m4GGk5NY-5O_",
        "outputId": "21adefef-035d-4f72-cc84-09fab88cf40a"
      },
      "execution_count": null,
      "outputs": [
        {
          "output_type": "execute_result",
          "data": {
            "text/plain": [
              "                   0                   1                  2      3        4\n",
              "summary        count                mean             stddev    min      max\n",
              "year            4340  2013.0907834101383  4.215343939724156   1992     2020\n",
              "selling_price   4340   504127.3117511521  578548.7361388858  20000  8900000\n",
              "km_driven       4340   66215.77741935484  46644.10219362085      1   806599"
            ],
            "text/html": [
              "\n",
              "  <div id=\"df-bd642b81-bd71-4d00-86ca-c9f5eb4e9eef\" class=\"colab-df-container\">\n",
              "    <div>\n",
              "<style scoped>\n",
              "    .dataframe tbody tr th:only-of-type {\n",
              "        vertical-align: middle;\n",
              "    }\n",
              "\n",
              "    .dataframe tbody tr th {\n",
              "        vertical-align: top;\n",
              "    }\n",
              "\n",
              "    .dataframe thead th {\n",
              "        text-align: right;\n",
              "    }\n",
              "</style>\n",
              "<table border=\"1\" class=\"dataframe\">\n",
              "  <thead>\n",
              "    <tr style=\"text-align: right;\">\n",
              "      <th></th>\n",
              "      <th>0</th>\n",
              "      <th>1</th>\n",
              "      <th>2</th>\n",
              "      <th>3</th>\n",
              "      <th>4</th>\n",
              "    </tr>\n",
              "  </thead>\n",
              "  <tbody>\n",
              "    <tr>\n",
              "      <th>summary</th>\n",
              "      <td>count</td>\n",
              "      <td>mean</td>\n",
              "      <td>stddev</td>\n",
              "      <td>min</td>\n",
              "      <td>max</td>\n",
              "    </tr>\n",
              "    <tr>\n",
              "      <th>year</th>\n",
              "      <td>4340</td>\n",
              "      <td>2013.0907834101383</td>\n",
              "      <td>4.215343939724156</td>\n",
              "      <td>1992</td>\n",
              "      <td>2020</td>\n",
              "    </tr>\n",
              "    <tr>\n",
              "      <th>selling_price</th>\n",
              "      <td>4340</td>\n",
              "      <td>504127.3117511521</td>\n",
              "      <td>578548.7361388858</td>\n",
              "      <td>20000</td>\n",
              "      <td>8900000</td>\n",
              "    </tr>\n",
              "    <tr>\n",
              "      <th>km_driven</th>\n",
              "      <td>4340</td>\n",
              "      <td>66215.77741935484</td>\n",
              "      <td>46644.10219362085</td>\n",
              "      <td>1</td>\n",
              "      <td>806599</td>\n",
              "    </tr>\n",
              "  </tbody>\n",
              "</table>\n",
              "</div>\n",
              "    <div class=\"colab-df-buttons\">\n",
              "\n",
              "  <div class=\"colab-df-container\">\n",
              "    <button class=\"colab-df-convert\" onclick=\"convertToInteractive('df-bd642b81-bd71-4d00-86ca-c9f5eb4e9eef')\"\n",
              "            title=\"Convert this dataframe to an interactive table.\"\n",
              "            style=\"display:none;\">\n",
              "\n",
              "  <svg xmlns=\"http://www.w3.org/2000/svg\" height=\"24px\" viewBox=\"0 -960 960 960\">\n",
              "    <path d=\"M120-120v-720h720v720H120Zm60-500h600v-160H180v160Zm220 220h160v-160H400v160Zm0 220h160v-160H400v160ZM180-400h160v-160H180v160Zm440 0h160v-160H620v160ZM180-180h160v-160H180v160Zm440 0h160v-160H620v160Z\"/>\n",
              "  </svg>\n",
              "    </button>\n",
              "\n",
              "  <style>\n",
              "    .colab-df-container {\n",
              "      display:flex;\n",
              "      gap: 12px;\n",
              "    }\n",
              "\n",
              "    .colab-df-convert {\n",
              "      background-color: #E8F0FE;\n",
              "      border: none;\n",
              "      border-radius: 50%;\n",
              "      cursor: pointer;\n",
              "      display: none;\n",
              "      fill: #1967D2;\n",
              "      height: 32px;\n",
              "      padding: 0 0 0 0;\n",
              "      width: 32px;\n",
              "    }\n",
              "\n",
              "    .colab-df-convert:hover {\n",
              "      background-color: #E2EBFA;\n",
              "      box-shadow: 0px 1px 2px rgba(60, 64, 67, 0.3), 0px 1px 3px 1px rgba(60, 64, 67, 0.15);\n",
              "      fill: #174EA6;\n",
              "    }\n",
              "\n",
              "    .colab-df-buttons div {\n",
              "      margin-bottom: 4px;\n",
              "    }\n",
              "\n",
              "    [theme=dark] .colab-df-convert {\n",
              "      background-color: #3B4455;\n",
              "      fill: #D2E3FC;\n",
              "    }\n",
              "\n",
              "    [theme=dark] .colab-df-convert:hover {\n",
              "      background-color: #434B5C;\n",
              "      box-shadow: 0px 1px 3px 1px rgba(0, 0, 0, 0.15);\n",
              "      filter: drop-shadow(0px 1px 2px rgba(0, 0, 0, 0.3));\n",
              "      fill: #FFFFFF;\n",
              "    }\n",
              "  </style>\n",
              "\n",
              "    <script>\n",
              "      const buttonEl =\n",
              "        document.querySelector('#df-bd642b81-bd71-4d00-86ca-c9f5eb4e9eef button.colab-df-convert');\n",
              "      buttonEl.style.display =\n",
              "        google.colab.kernel.accessAllowed ? 'block' : 'none';\n",
              "\n",
              "      async function convertToInteractive(key) {\n",
              "        const element = document.querySelector('#df-bd642b81-bd71-4d00-86ca-c9f5eb4e9eef');\n",
              "        const dataTable =\n",
              "          await google.colab.kernel.invokeFunction('convertToInteractive',\n",
              "                                                    [key], {});\n",
              "        if (!dataTable) return;\n",
              "\n",
              "        const docLinkHtml = 'Like what you see? Visit the ' +\n",
              "          '<a target=\"_blank\" href=https://colab.research.google.com/notebooks/data_table.ipynb>data table notebook</a>'\n",
              "          + ' to learn more about interactive tables.';\n",
              "        element.innerHTML = '';\n",
              "        dataTable['output_type'] = 'display_data';\n",
              "        await google.colab.output.renderOutput(dataTable, element);\n",
              "        const docLink = document.createElement('div');\n",
              "        docLink.innerHTML = docLinkHtml;\n",
              "        element.appendChild(docLink);\n",
              "      }\n",
              "    </script>\n",
              "  </div>\n",
              "\n",
              "\n",
              "<div id=\"df-0fabe612-121a-4174-9c0f-b6431bcd379b\">\n",
              "  <button class=\"colab-df-quickchart\" onclick=\"quickchart('df-0fabe612-121a-4174-9c0f-b6431bcd379b')\"\n",
              "            title=\"Suggest charts\"\n",
              "            style=\"display:none;\">\n",
              "\n",
              "<svg xmlns=\"http://www.w3.org/2000/svg\" height=\"24px\"viewBox=\"0 0 24 24\"\n",
              "     width=\"24px\">\n",
              "    <g>\n",
              "        <path d=\"M19 3H5c-1.1 0-2 .9-2 2v14c0 1.1.9 2 2 2h14c1.1 0 2-.9 2-2V5c0-1.1-.9-2-2-2zM9 17H7v-7h2v7zm4 0h-2V7h2v10zm4 0h-2v-4h2v4z\"/>\n",
              "    </g>\n",
              "</svg>\n",
              "  </button>\n",
              "\n",
              "<style>\n",
              "  .colab-df-quickchart {\n",
              "      --bg-color: #E8F0FE;\n",
              "      --fill-color: #1967D2;\n",
              "      --hover-bg-color: #E2EBFA;\n",
              "      --hover-fill-color: #174EA6;\n",
              "      --disabled-fill-color: #AAA;\n",
              "      --disabled-bg-color: #DDD;\n",
              "  }\n",
              "\n",
              "  [theme=dark] .colab-df-quickchart {\n",
              "      --bg-color: #3B4455;\n",
              "      --fill-color: #D2E3FC;\n",
              "      --hover-bg-color: #434B5C;\n",
              "      --hover-fill-color: #FFFFFF;\n",
              "      --disabled-bg-color: #3B4455;\n",
              "      --disabled-fill-color: #666;\n",
              "  }\n",
              "\n",
              "  .colab-df-quickchart {\n",
              "    background-color: var(--bg-color);\n",
              "    border: none;\n",
              "    border-radius: 50%;\n",
              "    cursor: pointer;\n",
              "    display: none;\n",
              "    fill: var(--fill-color);\n",
              "    height: 32px;\n",
              "    padding: 0;\n",
              "    width: 32px;\n",
              "  }\n",
              "\n",
              "  .colab-df-quickchart:hover {\n",
              "    background-color: var(--hover-bg-color);\n",
              "    box-shadow: 0 1px 2px rgba(60, 64, 67, 0.3), 0 1px 3px 1px rgba(60, 64, 67, 0.15);\n",
              "    fill: var(--button-hover-fill-color);\n",
              "  }\n",
              "\n",
              "  .colab-df-quickchart-complete:disabled,\n",
              "  .colab-df-quickchart-complete:disabled:hover {\n",
              "    background-color: var(--disabled-bg-color);\n",
              "    fill: var(--disabled-fill-color);\n",
              "    box-shadow: none;\n",
              "  }\n",
              "\n",
              "  .colab-df-spinner {\n",
              "    border: 2px solid var(--fill-color);\n",
              "    border-color: transparent;\n",
              "    border-bottom-color: var(--fill-color);\n",
              "    animation:\n",
              "      spin 1s steps(1) infinite;\n",
              "  }\n",
              "\n",
              "  @keyframes spin {\n",
              "    0% {\n",
              "      border-color: transparent;\n",
              "      border-bottom-color: var(--fill-color);\n",
              "      border-left-color: var(--fill-color);\n",
              "    }\n",
              "    20% {\n",
              "      border-color: transparent;\n",
              "      border-left-color: var(--fill-color);\n",
              "      border-top-color: var(--fill-color);\n",
              "    }\n",
              "    30% {\n",
              "      border-color: transparent;\n",
              "      border-left-color: var(--fill-color);\n",
              "      border-top-color: var(--fill-color);\n",
              "      border-right-color: var(--fill-color);\n",
              "    }\n",
              "    40% {\n",
              "      border-color: transparent;\n",
              "      border-right-color: var(--fill-color);\n",
              "      border-top-color: var(--fill-color);\n",
              "    }\n",
              "    60% {\n",
              "      border-color: transparent;\n",
              "      border-right-color: var(--fill-color);\n",
              "    }\n",
              "    80% {\n",
              "      border-color: transparent;\n",
              "      border-right-color: var(--fill-color);\n",
              "      border-bottom-color: var(--fill-color);\n",
              "    }\n",
              "    90% {\n",
              "      border-color: transparent;\n",
              "      border-bottom-color: var(--fill-color);\n",
              "    }\n",
              "  }\n",
              "</style>\n",
              "\n",
              "  <script>\n",
              "    async function quickchart(key) {\n",
              "      const quickchartButtonEl =\n",
              "        document.querySelector('#' + key + ' button');\n",
              "      quickchartButtonEl.disabled = true;  // To prevent multiple clicks.\n",
              "      quickchartButtonEl.classList.add('colab-df-spinner');\n",
              "      try {\n",
              "        const charts = await google.colab.kernel.invokeFunction(\n",
              "            'suggestCharts', [key], {});\n",
              "      } catch (error) {\n",
              "        console.error('Error during call to suggestCharts:', error);\n",
              "      }\n",
              "      quickchartButtonEl.classList.remove('colab-df-spinner');\n",
              "      quickchartButtonEl.classList.add('colab-df-quickchart-complete');\n",
              "    }\n",
              "    (() => {\n",
              "      let quickchartButtonEl =\n",
              "        document.querySelector('#df-0fabe612-121a-4174-9c0f-b6431bcd379b button');\n",
              "      quickchartButtonEl.style.display =\n",
              "        google.colab.kernel.accessAllowed ? 'block' : 'none';\n",
              "    })();\n",
              "  </script>\n",
              "</div>\n",
              "\n",
              "    </div>\n",
              "  </div>\n"
            ]
          },
          "metadata": {},
          "execution_count": 30
        }
      ]
    },
    {
      "cell_type": "code",
      "source": [
        "import matplotlib.pyplot as plt\n",
        "from matplotlib import cm\n",
        "\n",
        "fig = plt.figure(figsize=(25,15)) ## Plot Size\n",
        "st = fig.suptitle(\"Continous variables\", fontsize=50,\n",
        "                  verticalalignment='center') # Plot Main Title\n",
        "\n",
        "for col,num in zip(df.toPandas().describe().columns, range(1,17)):\n",
        "    ax = fig.add_subplot(5,4,num)\n",
        "    ax.hist(df.toPandas()[col])\n",
        "\n",
        "    plt.grid(False)\n",
        "    plt.xticks(rotation=45,fontsize=10)\n",
        "    plt.yticks(fontsize=10)\n",
        "    plt.title(col.upper(),fontsize=20)\n",
        "plt.tight_layout()\n",
        "st.set_y(0.95)\n",
        "fig.subplots_adjust(top=0.85,hspace = 0.4)\n",
        "plt.show()"
      ],
      "metadata": {
        "colab": {
          "base_uri": "https://localhost:8080/",
          "height": 392
        },
        "id": "_MjU4szS_eCK",
        "outputId": "1152373d-d471-4aa7-ac8a-ba64df088253"
      },
      "execution_count": null,
      "outputs": [
        {
          "output_type": "display_data",
          "data": {
            "text/plain": [
              "<Figure size 2500x1500 with 3 Axes>"
            ],
            "image/png": "[encoded data removed]"
          },
          "metadata": {}
        }
      ]
    },
    {
      "cell_type": "code",
      "source": [
        "fig = plt.figure(figsize=(25,15)) ## Plot Size\n",
        "st = fig.suptitle(\"Distribution of Features\", fontsize=50,\n",
        "                  verticalalignment='center') # Plot Main Title\n",
        "\n",
        "for col,num in zip(df.toPandas().describe().columns, range(1,17)):\n",
        "    ax = fig.add_subplot(5,4,num)\n",
        "    ax.boxplot(df.toPandas()[col])\n",
        "\n",
        "    plt.grid(False)\n",
        "    plt.xticks(rotation=45,fontsize=10)\n",
        "    plt.yticks(fontsize=10)\n",
        "    plt.title(col.upper(),fontsize=20)\n",
        "plt.tight_layout()\n",
        "st.set_y(0.95)\n",
        "fig.subplots_adjust(top=0.85,hspace = 0.4)\n",
        "plt.show()"
      ],
      "metadata": {
        "colab": {
          "base_uri": "https://localhost:8080/",
          "height": 367
        },
        "id": "-gvapIgWAK9t",
        "outputId": "95d58c89-3aeb-48f1-818e-d130076ccfea"
      },
      "execution_count": null,
      "outputs": [
        {
          "output_type": "display_data",
          "data": {
            "text/plain": [
              "<Figure size 2500x1500 with 3 Axes>"
            ],
            "image/png": "[encoded data removed]"
          },
          "metadata": {}
        }
      ]
    },
    {
      "cell_type": "code",
      "source": [
        "col_names =numeric_features_df.columns\n",
        "features = numeric_features_df.rdd.map(lambda row: row[0:])\n",
        "corr_mat=Statistics.corr(features, method=\"pearson\")\n",
        "corr_df = pd.DataFrame(corr_mat)\n",
        "corr_df.index, corr_df.columns = col_names, col_names\n",
        "\n",
        "corr_df"
      ],
      "metadata": {
        "colab": {
          "base_uri": "https://localhost:8080/",
          "height": 143
        },
        "id": "dzvUUM0YCIbz",
        "outputId": "3e2f4b65-1e0c-4dfd-900a-3c34cb5ea3cb"
      },
      "execution_count": null,
      "outputs": [
        {
          "output_type": "execute_result",
          "data": {
            "text/plain": [
              "               year  selling_price  km_driven\n",
              "year           1.00           0.41      -0.42\n",
              "selling_price  0.41           1.00      -0.19\n",
              "km_driven     -0.42          -0.19       1.00"
            ],
            "text/html": [
              "\n",
              "  <div id=\"df-2c18875b-60a0-48f1-9c99-47213f1133f5\" class=\"colab-df-container\">\n",
              "    <div>\n",
              "<style scoped>\n",
              "    .dataframe tbody tr th:only-of-type {\n",
              "        vertical-align: middle;\n",
              "    }\n",
              "\n",
              "    .dataframe tbody tr th {\n",
              "        vertical-align: top;\n",
              "    }\n",
              "\n",
              "    .dataframe thead th {\n",
              "        text-align: right;\n",
              "    }\n",
              "</style>\n",
              "<table border=\"1\" class=\"dataframe\">\n",
              "  <thead>\n",
              "    <tr style=\"text-align: right;\">\n",
              "      <th></th>\n",
              "      <th>year</th>\n",
              "      <th>selling_price</th>\n",
              "      <th>km_driven</th>\n",
              "    </tr>\n",
              "  </thead>\n",
              "  <tbody>\n",
              "    <tr>\n",
              "      <th>year</th>\n",
              "      <td>1.00</td>\n",
              "      <td>0.41</td>\n",
              "      <td>-0.42</td>\n",
              "    </tr>\n",
              "    <tr>\n",
              "      <th>selling_price</th>\n",
              "      <td>0.41</td>\n",
              "      <td>1.00</td>\n",
              "      <td>-0.19</td>\n",
              "    </tr>\n",
              "    <tr>\n",
              "      <th>km_driven</th>\n",
              "      <td>-0.42</td>\n",
              "      <td>-0.19</td>\n",
              "      <td>1.00</td>\n",
              "    </tr>\n",
              "  </tbody>\n",
              "</table>\n",
              "</div>\n",
              "    <div class=\"colab-df-buttons\">\n",
              "\n",
              "  <div class=\"colab-df-container\">\n",
              "    <button class=\"colab-df-convert\" onclick=\"convertToInteractive('df-2c18875b-60a0-48f1-9c99-47213f1133f5')\"\n",
              "            title=\"Convert this dataframe to an interactive table.\"\n",
              "            style=\"display:none;\">\n",
              "\n",
              "  <svg xmlns=\"http://www.w3.org/2000/svg\" height=\"24px\" viewBox=\"0 -960 960 960\">\n",
              "    <path d=\"M120-120v-720h720v720H120Zm60-500h600v-160H180v160Zm220 220h160v-160H400v160Zm0 220h160v-160H400v160ZM180-400h160v-160H180v160Zm440 0h160v-160H620v160ZM180-180h160v-160H180v160Zm440 0h160v-160H620v160Z\"/>\n",
              "  </svg>\n",
              "    </button>\n",
              "\n",
              "  <style>\n",
              "    .colab-df-container {\n",
              "      display:flex;\n",
              "      gap: 12px;\n",
              "    }\n",
              "\n",
              "    .colab-df-convert {\n",
              "      background-color: #E8F0FE;\n",
              "      border: none;\n",
              "      border-radius: 50%;\n",
              "      cursor: pointer;\n",
              "      display: none;\n",
              "      fill: #1967D2;\n",
              "      height: 32px;\n",
              "      padding: 0 0 0 0;\n",
              "      width: 32px;\n",
              "    }\n",
              "\n",
              "    .colab-df-convert:hover {\n",
              "      background-color: #E2EBFA;\n",
              "      box-shadow: 0px 1px 2px rgba(60, 64, 67, 0.3), 0px 1px 3px 1px rgba(60, 64, 67, 0.15);\n",
              "      fill: #174EA6;\n",
              "    }\n",
              "\n",
              "    .colab-df-buttons div {\n",
              "      margin-bottom: 4px;\n",
              "    }\n",
              "\n",
              "    [theme=dark] .colab-df-convert {\n",
              "      background-color: #3B4455;\n",
              "      fill: #D2E3FC;\n",
              "    }\n",
              "\n",
              "    [theme=dark] .colab-df-convert:hover {\n",
              "      background-color: #434B5C;\n",
              "      box-shadow: 0px 1px 3px 1px rgba(0, 0, 0, 0.15);\n",
              "      filter: drop-shadow(0px 1px 2px rgba(0, 0, 0, 0.3));\n",
              "      fill: #FFFFFF;\n",
              "    }\n",
              "  </style>\n",
              "\n",
              "    <script>\n",
              "      const buttonEl =\n",
              "        document.querySelector('#df-2c18875b-60a0-48f1-9c99-47213f1133f5 button.colab-df-convert');\n",
              "      buttonEl.style.display =\n",
              "        google.colab.kernel.accessAllowed ? 'block' : 'none';\n",
              "\n",
              "      async function convertToInteractive(key) {\n",
              "        const element = document.querySelector('#df-2c18875b-60a0-48f1-9c99-47213f1133f5');\n",
              "        const dataTable =\n",
              "          await google.colab.kernel.invokeFunction('convertToInteractive',\n",
              "                                                    [key], {});\n",
              "        if (!dataTable) return;\n",
              "\n",
              "        const docLinkHtml = 'Like what you see? Visit the ' +\n",
              "          '<a target=\"_blank\" href=https://colab.research.google.com/notebooks/data_table.ipynb>data table notebook</a>'\n",
              "          + ' to learn more about interactive tables.';\n",
              "        element.innerHTML = '';\n",
              "        dataTable['output_type'] = 'display_data';\n",
              "        await google.colab.output.renderOutput(dataTable, element);\n",
              "        const docLink = document.createElement('div');\n",
              "        docLink.innerHTML = docLinkHtml;\n",
              "        element.appendChild(docLink);\n",
              "      }\n",
              "    </script>\n",
              "  </div>\n",
              "\n",
              "\n",
              "<div id=\"df-a709256a-7106-4415-bf3f-aa7c602ac3cf\">\n",
              "  <button class=\"colab-df-quickchart\" onclick=\"quickchart('df-a709256a-7106-4415-bf3f-aa7c602ac3cf')\"\n",
              "            title=\"Suggest charts\"\n",
              "            style=\"display:none;\">\n",
              "\n",
              "<svg xmlns=\"http://www.w3.org/2000/svg\" height=\"24px\"viewBox=\"0 0 24 24\"\n",
              "     width=\"24px\">\n",
              "    <g>\n",
              "        <path d=\"M19 3H5c-1.1 0-2 .9-2 2v14c0 1.1.9 2 2 2h14c1.1 0 2-.9 2-2V5c0-1.1-.9-2-2-2zM9 17H7v-7h2v7zm4 0h-2V7h2v10zm4 0h-2v-4h2v4z\"/>\n",
              "    </g>\n",
              "</svg>\n",
              "  </button>\n",
              "\n",
              "<style>\n",
              "  .colab-df-quickchart {\n",
              "      --bg-color: #E8F0FE;\n",
              "      --fill-color: #1967D2;\n",
              "      --hover-bg-color: #E2EBFA;\n",
              "      --hover-fill-color: #174EA6;\n",
              "      --disabled-fill-color: #AAA;\n",
              "      --disabled-bg-color: #DDD;\n",
              "  }\n",
              "\n",
              "  [theme=dark] .colab-df-quickchart {\n",
              "      --bg-color: #3B4455;\n",
              "      --fill-color: #D2E3FC;\n",
              "      --hover-bg-color: #434B5C;\n",
              "      --hover-fill-color: #FFFFFF;\n",
              "      --disabled-bg-color: #3B4455;\n",
              "      --disabled-fill-color: #666;\n",
              "  }\n",
              "\n",
              "  .colab-df-quickchart {\n",
              "    background-color: var(--bg-color);\n",
              "    border: none;\n",
              "    border-radius: 50%;\n",
              "    cursor: pointer;\n",
              "    display: none;\n",
              "    fill: var(--fill-color);\n",
              "    height: 32px;\n",
              "    padding: 0;\n",
              "    width: 32px;\n",
              "  }\n",
              "\n",
              "  .colab-df-quickchart:hover {\n",
              "    background-color: var(--hover-bg-color);\n",
              "    box-shadow: 0 1px 2px rgba(60, 64, 67, 0.3), 0 1px 3px 1px rgba(60, 64, 67, 0.15);\n",
              "    fill: var(--button-hover-fill-color);\n",
              "  }\n",
              "\n",
              "  .colab-df-quickchart-complete:disabled,\n",
              "  .colab-df-quickchart-complete:disabled:hover {\n",
              "    background-color: var(--disabled-bg-color);\n",
              "    fill: var(--disabled-fill-color);\n",
              "    box-shadow: none;\n",
              "  }\n",
              "\n",
              "  .colab-df-spinner {\n",
              "    border: 2px solid var(--fill-color);\n",
              "    border-color: transparent;\n",
              "    border-bottom-color: var(--fill-color);\n",
              "    animation:\n",
              "      spin 1s steps(1) infinite;\n",
              "  }\n",
              "\n",
              "  @keyframes spin {\n",
              "    0% {\n",
              "      border-color: transparent;\n",
              "      border-bottom-color: var(--fill-color);\n",
              "      border-left-color: var(--fill-color);\n",
              "    }\n",
              "    20% {\n",
              "      border-color: transparent;\n",
              "      border-left-color: var(--fill-color);\n",
              "      border-top-color: var(--fill-color);\n",
              "    }\n",
              "    30% {\n",
              "      border-color: transparent;\n",
              "      border-left-color: var(--fill-color);\n",
              "      border-top-color: var(--fill-color);\n",
              "      border-right-color: var(--fill-color);\n",
              "    }\n",
              "    40% {\n",
              "      border-color: transparent;\n",
              "      border-right-color: var(--fill-color);\n",
              "      border-top-color: var(--fill-color);\n",
              "    }\n",
              "    60% {\n",
              "      border-color: transparent;\n",
              "      border-right-color: var(--fill-color);\n",
              "    }\n",
              "    80% {\n",
              "      border-color: transparent;\n",
              "      border-right-color: var(--fill-color);\n",
              "      border-bottom-color: var(--fill-color);\n",
              "    }\n",
              "    90% {\n",
              "      border-color: transparent;\n",
              "      border-bottom-color: var(--fill-color);\n",
              "    }\n",
              "  }\n",
              "</style>\n",
              "\n",
              "  <script>\n",
              "    async function quickchart(key) {\n",
              "      const quickchartButtonEl =\n",
              "        document.querySelector('#' + key + ' button');\n",
              "      quickchartButtonEl.disabled = true;  // To prevent multiple clicks.\n",
              "      quickchartButtonEl.classList.add('colab-df-spinner');\n",
              "      try {\n",
              "        const charts = await google.colab.kernel.invokeFunction(\n",
              "            'suggestCharts', [key], {});\n",
              "      } catch (error) {\n",
              "        console.error('Error during call to suggestCharts:', error);\n",
              "      }\n",
              "      quickchartButtonEl.classList.remove('colab-df-spinner');\n",
              "      quickchartButtonEl.classList.add('colab-df-quickchart-complete');\n",
              "    }\n",
              "    (() => {\n",
              "      let quickchartButtonEl =\n",
              "        document.querySelector('#df-a709256a-7106-4415-bf3f-aa7c602ac3cf button');\n",
              "      quickchartButtonEl.style.display =\n",
              "        google.colab.kernel.accessAllowed ? 'block' : 'none';\n",
              "    })();\n",
              "  </script>\n",
              "</div>\n",
              "\n",
              "  <div id=\"id_93c7a164-022b-4600-b683-b6ae84c90c63\">\n",
              "    <style>\n",
              "      .colab-df-generate {\n",
              "        background-color: #E8F0FE;\n",
              "        border: none;\n",
              "        border-radius: 50%;\n",
              "        cursor: pointer;\n",
              "        display: none;\n",
              "        fill: #1967D2;\n",
              "        height: 32px;\n",
              "        padding: 0 0 0 0;\n",
              "        width: 32px;\n",
              "      }\n",
              "\n",
              "      .colab-df-generate:hover {\n",
              "        background-color: #E2EBFA;\n",
              "        box-shadow: 0px 1px 2px rgba(60, 64, 67, 0.3), 0px 1px 3px 1px rgba(60, 64, 67, 0.15);\n",
              "        fill: #174EA6;\n",
              "      }\n",
              "\n",
              "      [theme=dark] .colab-df-generate {\n",
              "        background-color: #3B4455;\n",
              "        fill: #D2E3FC;\n",
              "      }\n",
              "\n",
              "      [theme=dark] .colab-df-generate:hover {\n",
              "        background-color: #434B5C;\n",
              "        box-shadow: 0px 1px 3px 1px rgba(0, 0, 0, 0.15);\n",
              "        filter: drop-shadow(0px 1px 2px rgba(0, 0, 0, 0.3));\n",
              "        fill: #FFFFFF;\n",
              "      }\n",
              "    </style>\n",
              "    <button class=\"colab-df-generate\" onclick=\"generateWithVariable('corr_df')\"\n",
              "            title=\"Generate code using this dataframe.\"\n",
              "            style=\"display:none;\">\n",
              "\n",
              "  <svg xmlns=\"http://www.w3.org/2000/svg\" height=\"24px\"viewBox=\"0 0 24 24\"\n",
              "       width=\"24px\">\n",
              "    <path d=\"M7,19H8.4L18.45,9,17,7.55,7,17.6ZM5,21V16.75L18.45,3.32a2,2,0,0,1,2.83,0l1.4,1.43a1.91,1.91,0,0,1,.58,1.4,1.91,1.91,0,0,1-.58,1.4L9.25,21ZM18.45,9,17,7.55Zm-12,3A5.31,5.31,0,0,0,4.9,8.1,5.31,5.31,0,0,0,1,6.5,5.31,5.31,0,0,0,4.9,4.9,5.31,5.31,0,0,0,6.5,1,5.31,5.31,0,0,0,8.1,4.9,5.31,5.31,0,0,0,12,6.5,5.46,5.46,0,0,0,6.5,12Z\"/>\n",
              "  </svg>\n",
              "    </button>\n",
              "    <script>\n",
              "      (() => {\n",
              "      const buttonEl =\n",
              "        document.querySelector('#id_93c7a164-022b-4600-b683-b6ae84c90c63 button.colab-df-generate');\n",
              "      buttonEl.style.display =\n",
              "        google.colab.kernel.accessAllowed ? 'block' : 'none';\n",
              "\n",
              "      buttonEl.onclick = () => {\n",
              "        google.colab.notebook.generateWithVariable('corr_df');\n",
              "      }\n",
              "      })();\n",
              "    </script>\n",
              "  </div>\n",
              "\n",
              "    </div>\n",
              "  </div>\n"
            ]
          },
          "metadata": {},
          "execution_count": 33
        }
      ]
    },
    {
      "cell_type": "code",
      "source": [
        "import seaborn as sns\n",
        "plt.figure(figsize=(10,8))\n",
        "plt.title('Correlation Heatmap')\n",
        "ax = sns.heatmap(corr_df, square=True, annot=True, fmt='.2f', linecolor='white')\n",
        "ax.set_xticklabels(ax.get_xticklabels(), rotation=90)\n",
        "ax.set_yticklabels(ax.get_yticklabels(), rotation=30)\n",
        "plt.show()"
      ],
      "metadata": {
        "colab": {
          "base_uri": "https://localhost:8080/",
          "height": 771
        },
        "id": "5DwnMP0KDYoA",
        "outputId": "d25312cf-0ddf-4c60-90a7-ca6961e0b8b8"
      },
      "execution_count": null,
      "outputs": [
        {
          "output_type": "display_data",
          "data": {
            "text/plain": [
              "<Figure size 1000x800 with 2 Axes>"
            ],
            "image/png": "[encoded data removed]"
          },
          "metadata": {}
        }
      ]
    },
    {
      "cell_type": "markdown",
      "source": [
        "**FROM THE ABOVE HEATMAP WE CAN SEE THAT THERE IS NOT MUCH CORRELATION BETWEEN OUR INDEPENDENT VARIABLES. SO THERE IS NOT MUCH MULTICOLLINEARITY IN OUR DATASET**"
      ],
      "metadata": {
        "id": "0iqV71a5DnpJ"
      }
    },
    {
      "cell_type": "markdown",
      "source": [
        "**String Indexer**"
      ],
      "metadata": {
        "id": "tBZy21zzRAct"
      }
    },
    {
      "cell_type": "code",
      "source": [
        "nameIndexer = StringIndexer(inputCol=\"name\", outputCol=\"nameIndex\")\n",
        "fuelIndexer = StringIndexer(inputCol=\"fuel\", outputCol=\"fuelIndex\")\n",
        "seller_typeIndexer = StringIndexer(inputCol=\"seller_type\", outputCol=\"seller_typeIndex\")\n",
        "transmissionIndexer = StringIndexer(inputCol=\"transmission\", outputCol=\"transmissionIndex\")\n",
        "ownerIndexer = StringIndexer(inputCol=\"owner\", outputCol=\"ownerIndex\")"
      ],
      "metadata": {
        "id": "JIuQpmYXEWWS"
      },
      "execution_count": null,
      "outputs": []
    },
    {
      "cell_type": "code",
      "source": [
        "nameIndexer.fit(df).transform(df).show(5)"
      ],
      "metadata": {
        "colab": {
          "base_uri": "https://localhost:8080/"
        },
        "id": "dI5c2uS8Sear",
        "outputId": "1936a8ca-5f4e-4859-961f-4ccfff6c78e1"
      },
      "execution_count": null,
      "outputs": [
        {
          "output_type": "stream",
          "name": "stdout",
          "text": [
            "+--------------------+----+-------------+---------+------+-----------+------------+------------+---------+\n",
            "|                name|year|selling_price|km_driven|  fuel|seller_type|transmission|       owner|nameIndex|\n",
            "+--------------------+----+-------------+---------+------+-----------+------------+------------+---------+\n",
            "|       Maruti 800 AC|2007|        60000|    70000|Petrol| Individual|      Manual| First Owner|     10.0|\n",
            "|Maruti Wagon R LX...|2007|       135000|    50000|Petrol| Individual|      Manual| First Owner|      9.0|\n",
            "|Hyundai Verna 1.6 SX|2012|       600000|   100000|Diesel| Individual|      Manual| First Owner|     25.0|\n",
            "|Datsun RediGO T O...|2017|       250000|    46000|Petrol| Individual|      Manual| First Owner|     99.0|\n",
            "|Honda Amaze VX i-...|2014|       450000|   141000|Diesel| Individual|      Manual|Second Owner|     74.0|\n",
            "+--------------------+----+-------------+---------+------+-----------+------------+------------+---------+\n",
            "only showing top 5 rows\n",
            "\n"
          ]
        }
      ]
    },
    {
      "cell_type": "code",
      "source": [
        "fuelIndexer.fit(df).transform(df).show(5)"
      ],
      "metadata": {
        "colab": {
          "base_uri": "https://localhost:8080/"
        },
        "id": "VHGJq30sSuuL",
        "outputId": "5e09fc74-44ff-4dd5-d708-070b2907b3c6"
      },
      "execution_count": null,
      "outputs": [
        {
          "output_type": "stream",
          "name": "stdout",
          "text": [
            "+--------------------+----+-------------+---------+------+-----------+------------+------------+---------+\n",
            "|                name|year|selling_price|km_driven|  fuel|seller_type|transmission|       owner|fuelIndex|\n",
            "+--------------------+----+-------------+---------+------+-----------+------------+------------+---------+\n",
            "|       Maruti 800 AC|2007|        60000|    70000|Petrol| Individual|      Manual| First Owner|      1.0|\n",
            "|Maruti Wagon R LX...|2007|       135000|    50000|Petrol| Individual|      Manual| First Owner|      1.0|\n",
            "|Hyundai Verna 1.6 SX|2012|       600000|   100000|Diesel| Individual|      Manual| First Owner|      0.0|\n",
            "|Datsun RediGO T O...|2017|       250000|    46000|Petrol| Individual|      Manual| First Owner|      1.0|\n",
            "|Honda Amaze VX i-...|2014|       450000|   141000|Diesel| Individual|      Manual|Second Owner|      0.0|\n",
            "+--------------------+----+-------------+---------+------+-----------+------------+------------+---------+\n",
            "only showing top 5 rows\n",
            "\n"
          ]
        }
      ]
    },
    {
      "cell_type": "code",
      "source": [
        "seller_typeIndexer.fit(df).transform(df).show(5)"
      ],
      "metadata": {
        "colab": {
          "base_uri": "https://localhost:8080/"
        },
        "id": "nLSaVg05S293",
        "outputId": "d8388e51-c570-4508-e7e9-61a8c4939758"
      },
      "execution_count": null,
      "outputs": [
        {
          "output_type": "stream",
          "name": "stdout",
          "text": [
            "+--------------------+----+-------------+---------+------+-----------+------------+------------+----------------+\n",
            "|                name|year|selling_price|km_driven|  fuel|seller_type|transmission|       owner|seller_typeIndex|\n",
            "+--------------------+----+-------------+---------+------+-----------+------------+------------+----------------+\n",
            "|       Maruti 800 AC|2007|        60000|    70000|Petrol| Individual|      Manual| First Owner|             0.0|\n",
            "|Maruti Wagon R LX...|2007|       135000|    50000|Petrol| Individual|      Manual| First Owner|             0.0|\n",
            "|Hyundai Verna 1.6 SX|2012|       600000|   100000|Diesel| Individual|      Manual| First Owner|             0.0|\n",
            "|Datsun RediGO T O...|2017|       250000|    46000|Petrol| Individual|      Manual| First Owner|             0.0|\n",
            "|Honda Amaze VX i-...|2014|       450000|   141000|Diesel| Individual|      Manual|Second Owner|             0.0|\n",
            "+--------------------+----+-------------+---------+------+-----------+------------+------------+----------------+\n",
            "only showing top 5 rows\n",
            "\n"
          ]
        }
      ]
    },
    {
      "cell_type": "code",
      "source": [
        "transmissionIndexer.fit(df).transform(df).show(5)"
      ],
      "metadata": {
        "colab": {
          "base_uri": "https://localhost:8080/"
        },
        "id": "xNg27rz0S96V",
        "outputId": "e2ca8c31-05d2-4809-c20d-f903d510e738"
      },
      "execution_count": null,
      "outputs": [
        {
          "output_type": "stream",
          "name": "stdout",
          "text": [
            "+--------------------+----+-------------+---------+------+-----------+------------+------------+-----------------+\n",
            "|                name|year|selling_price|km_driven|  fuel|seller_type|transmission|       owner|transmissionIndex|\n",
            "+--------------------+----+-------------+---------+------+-----------+------------+------------+-----------------+\n",
            "|       Maruti 800 AC|2007|        60000|    70000|Petrol| Individual|      Manual| First Owner|              0.0|\n",
            "|Maruti Wagon R LX...|2007|       135000|    50000|Petrol| Individual|      Manual| First Owner|              0.0|\n",
            "|Hyundai Verna 1.6 SX|2012|       600000|   100000|Diesel| Individual|      Manual| First Owner|              0.0|\n",
            "|Datsun RediGO T O...|2017|       250000|    46000|Petrol| Individual|      Manual| First Owner|              0.0|\n",
            "|Honda Amaze VX i-...|2014|       450000|   141000|Diesel| Individual|      Manual|Second Owner|              0.0|\n",
            "+--------------------+----+-------------+---------+------+-----------+------------+------------+-----------------+\n",
            "only showing top 5 rows\n",
            "\n"
          ]
        }
      ]
    },
    {
      "cell_type": "code",
      "source": [
        "ownerIndexer.fit(df).transform(df).show(5)"
      ],
      "metadata": {
        "colab": {
          "base_uri": "https://localhost:8080/"
        },
        "id": "aQEjZEaKTKKv",
        "outputId": "d6b422a6-823d-4b24-ec29-7a0bff81cf63"
      },
      "execution_count": null,
      "outputs": [
        {
          "output_type": "stream",
          "name": "stdout",
          "text": [
            "+--------------------+----+-------------+---------+------+-----------+------------+------------+----------+\n",
            "|                name|year|selling_price|km_driven|  fuel|seller_type|transmission|       owner|ownerIndex|\n",
            "+--------------------+----+-------------+---------+------+-----------+------------+------------+----------+\n",
            "|       Maruti 800 AC|2007|        60000|    70000|Petrol| Individual|      Manual| First Owner|       0.0|\n",
            "|Maruti Wagon R LX...|2007|       135000|    50000|Petrol| Individual|      Manual| First Owner|       0.0|\n",
            "|Hyundai Verna 1.6 SX|2012|       600000|   100000|Diesel| Individual|      Manual| First Owner|       0.0|\n",
            "|Datsun RediGO T O...|2017|       250000|    46000|Petrol| Individual|      Manual| First Owner|       0.0|\n",
            "|Honda Amaze VX i-...|2014|       450000|   141000|Diesel| Individual|      Manual|Second Owner|       1.0|\n",
            "+--------------------+----+-------------+---------+------+-----------+------------+------------+----------+\n",
            "only showing top 5 rows\n",
            "\n"
          ]
        }
      ]
    },
    {
      "cell_type": "markdown",
      "source": [
        "**One Hot Encoder**"
      ],
      "metadata": {
        "id": "JJp_0IDeTsAf"
      }
    },
    {
      "cell_type": "code",
      "source": [
        "OHE_name = OneHotEncoder(inputCol=\"nameIndex\", outputCol=\"nameVec\")\n",
        "OHE_fuel = OneHotEncoder(inputCol=\"fuelIndex\", outputCol=\"fuelVec\")\n",
        "OHE_sellertype = OneHotEncoder(inputCol=\"seller_typeIndex\", outputCol=\"seller_typeVec\")\n",
        "OHE_transmission = OneHotEncoder(inputCol=\"transmissionIndex\", outputCol=\"transmissionVec\")\n",
        "OHE_owner = OneHotEncoder(inputCol=\"ownerIndex\", outputCol=\"ownerVec\")"
      ],
      "metadata": {
        "id": "jNRY7Lf0TVuc"
      },
      "execution_count": null,
      "outputs": []
    },
    {
      "cell_type": "code",
      "source": [
        "OHE_name.fit(nameIndexer.fit(df).transform(df)).transform(nameIndexer.fit(df).transform(df)).show(3)"
      ],
      "metadata": {
        "colab": {
          "base_uri": "https://localhost:8080/"
        },
        "id": "rwboETP5UzFO",
        "outputId": "3b219723-cc25-402b-ed89-13dea3bc7106"
      },
      "execution_count": null,
      "outputs": [
        {
          "output_type": "stream",
          "name": "stdout",
          "text": [
            "+--------------------+----+-------------+---------+------+-----------+------------+-----------+---------+-----------------+\n",
            "|                name|year|selling_price|km_driven|  fuel|seller_type|transmission|      owner|nameIndex|          nameVec|\n",
            "+--------------------+----+-------------+---------+------+-----------+------------+-----------+---------+-----------------+\n",
            "|       Maruti 800 AC|2007|        60000|    70000|Petrol| Individual|      Manual|First Owner|     10.0|(1490,[10],[1.0])|\n",
            "|Maruti Wagon R LX...|2007|       135000|    50000|Petrol| Individual|      Manual|First Owner|      9.0| (1490,[9],[1.0])|\n",
            "|Hyundai Verna 1.6 SX|2012|       600000|   100000|Diesel| Individual|      Manual|First Owner|     25.0|(1490,[25],[1.0])|\n",
            "+--------------------+----+-------------+---------+------+-----------+------------+-----------+---------+-----------------+\n",
            "only showing top 3 rows\n",
            "\n"
          ]
        }
      ]
    },
    {
      "cell_type": "code",
      "source": [
        "OHE_fuel.fit(fuelIndexer.fit(df).transform(df)).transform(fuelIndexer.fit(df).transform(df)).show(3)"
      ],
      "metadata": {
        "colab": {
          "base_uri": "https://localhost:8080/"
        },
        "id": "OgRf5qheV0Ly",
        "outputId": "e1bc0318-2a94-4c91-e761-7f44bb75cc5b"
      },
      "execution_count": null,
      "outputs": [
        {
          "output_type": "stream",
          "name": "stdout",
          "text": [
            "+--------------------+----+-------------+---------+------+-----------+------------+-----------+---------+-------------+\n",
            "|                name|year|selling_price|km_driven|  fuel|seller_type|transmission|      owner|fuelIndex|      fuelVec|\n",
            "+--------------------+----+-------------+---------+------+-----------+------------+-----------+---------+-------------+\n",
            "|       Maruti 800 AC|2007|        60000|    70000|Petrol| Individual|      Manual|First Owner|      1.0|(4,[1],[1.0])|\n",
            "|Maruti Wagon R LX...|2007|       135000|    50000|Petrol| Individual|      Manual|First Owner|      1.0|(4,[1],[1.0])|\n",
            "|Hyundai Verna 1.6 SX|2012|       600000|   100000|Diesel| Individual|      Manual|First Owner|      0.0|(4,[0],[1.0])|\n",
            "+--------------------+----+-------------+---------+------+-----------+------------+-----------+---------+-------------+\n",
            "only showing top 3 rows\n",
            "\n"
          ]
        }
      ]
    },
    {
      "cell_type": "code",
      "source": [
        "OHE_sellertype.fit(seller_typeIndexer.fit(df).transform(df)).transform(seller_typeIndexer.fit(df).transform(df)).show(3)"
      ],
      "metadata": {
        "colab": {
          "base_uri": "https://localhost:8080/"
        },
        "id": "r_op-vqOWEzb",
        "outputId": "bd31c296-37b7-49f5-9bef-dab2c915b54f"
      },
      "execution_count": null,
      "outputs": [
        {
          "output_type": "stream",
          "name": "stdout",
          "text": [
            "+--------------------+----+-------------+---------+------+-----------+------------+-----------+----------------+--------------+\n",
            "|                name|year|selling_price|km_driven|  fuel|seller_type|transmission|      owner|seller_typeIndex|seller_typeVec|\n",
            "+--------------------+----+-------------+---------+------+-----------+------------+-----------+----------------+--------------+\n",
            "|       Maruti 800 AC|2007|        60000|    70000|Petrol| Individual|      Manual|First Owner|             0.0| (2,[0],[1.0])|\n",
            "|Maruti Wagon R LX...|2007|       135000|    50000|Petrol| Individual|      Manual|First Owner|             0.0| (2,[0],[1.0])|\n",
            "|Hyundai Verna 1.6 SX|2012|       600000|   100000|Diesel| Individual|      Manual|First Owner|             0.0| (2,[0],[1.0])|\n",
            "+--------------------+----+-------------+---------+------+-----------+------------+-----------+----------------+--------------+\n",
            "only showing top 3 rows\n",
            "\n"
          ]
        }
      ]
    },
    {
      "cell_type": "code",
      "source": [
        "OHE_transmission.fit(transmissionIndexer.fit(df).transform(df)).transform(transmissionIndexer.fit(df).transform(df)).show(3)"
      ],
      "metadata": {
        "colab": {
          "base_uri": "https://localhost:8080/"
        },
        "id": "0au1rJQvWPA6",
        "outputId": "20725399-05f9-4295-c171-141fb4fb82d2"
      },
      "execution_count": null,
      "outputs": [
        {
          "output_type": "stream",
          "name": "stdout",
          "text": [
            "+--------------------+----+-------------+---------+------+-----------+------------+-----------+-----------------+---------------+\n",
            "|                name|year|selling_price|km_driven|  fuel|seller_type|transmission|      owner|transmissionIndex|transmissionVec|\n",
            "+--------------------+----+-------------+---------+------+-----------+------------+-----------+-----------------+---------------+\n",
            "|       Maruti 800 AC|2007|        60000|    70000|Petrol| Individual|      Manual|First Owner|              0.0|  (1,[0],[1.0])|\n",
            "|Maruti Wagon R LX...|2007|       135000|    50000|Petrol| Individual|      Manual|First Owner|              0.0|  (1,[0],[1.0])|\n",
            "|Hyundai Verna 1.6 SX|2012|       600000|   100000|Diesel| Individual|      Manual|First Owner|              0.0|  (1,[0],[1.0])|\n",
            "+--------------------+----+-------------+---------+------+-----------+------------+-----------+-----------------+---------------+\n",
            "only showing top 3 rows\n",
            "\n"
          ]
        }
      ]
    },
    {
      "cell_type": "code",
      "source": [
        "OHE_owner.fit(ownerIndexer.fit(df).transform(df)).transform(ownerIndexer.fit(df).transform(df)).show(3)"
      ],
      "metadata": {
        "colab": {
          "base_uri": "https://localhost:8080/"
        },
        "id": "D4M0w5_9WcsL",
        "outputId": "0a607bea-4f91-4707-f66f-c35930c774e9"
      },
      "execution_count": null,
      "outputs": [
        {
          "output_type": "stream",
          "name": "stdout",
          "text": [
            "+--------------------+----+-------------+---------+------+-----------+------------+-----------+----------+-------------+\n",
            "|                name|year|selling_price|km_driven|  fuel|seller_type|transmission|      owner|ownerIndex|     ownerVec|\n",
            "+--------------------+----+-------------+---------+------+-----------+------------+-----------+----------+-------------+\n",
            "|       Maruti 800 AC|2007|        60000|    70000|Petrol| Individual|      Manual|First Owner|       0.0|(4,[0],[1.0])|\n",
            "|Maruti Wagon R LX...|2007|       135000|    50000|Petrol| Individual|      Manual|First Owner|       0.0|(4,[0],[1.0])|\n",
            "|Hyundai Verna 1.6 SX|2012|       600000|   100000|Diesel| Individual|      Manual|First Owner|       0.0|(4,[0],[1.0])|\n",
            "+--------------------+----+-------------+---------+------+-----------+------------+-----------+----------+-------------+\n",
            "only showing top 3 rows\n",
            "\n"
          ]
        }
      ]
    },
    {
      "cell_type": "markdown",
      "source": [
        "**Assembler**"
      ],
      "metadata": {
        "id": "ChYp08R7Y8_B"
      }
    },
    {
      "cell_type": "code",
      "source": [
        "F_assembler = VectorAssembler(inputCols=['nameVec', 'year','km_driven', 'fuelVec', 'seller_typeVec', 'transmissionVec', 'ownerVec'],outputCol='features')"
      ],
      "metadata": {
        "id": "dv7S8PQpY6PG"
      },
      "execution_count": null,
      "outputs": []
    },
    {
      "cell_type": "markdown",
      "source": [
        "**Standard Scaler**"
      ],
      "metadata": {
        "id": "vpmgE9Lya7fd"
      }
    },
    {
      "cell_type": "code",
      "source": [
        "standardScaler = StandardScaler(inputCol=\"features\", outputCol=\"features_scaled\")"
      ],
      "metadata": {
        "id": "RYOO82Esa6aH"
      },
      "execution_count": null,
      "outputs": []
    },
    {
      "cell_type": "markdown",
      "source": [
        "**Creating the base pipeline**"
      ],
      "metadata": {
        "id": "bvY8YeYpboZF"
      }
    },
    {
      "cell_type": "code",
      "source": [
        "basePipe = Pipeline(stages=[nameIndexer, fuelIndexer, seller_typeIndexer, transmissionIndexer, ownerIndexer, OHE_name,OHE_fuel,OHE_sellertype,OHE_transmission,OHE_owner,F_assembler,standardScaler])\n"
      ],
      "metadata": {
        "id": "vjx1vt2Dbgei"
      },
      "execution_count": null,
      "outputs": []
    },
    {
      "cell_type": "code",
      "source": [
        "df_transformed = basePipe.fit(df).transform(df)"
      ],
      "metadata": {
        "id": "TiWtFsZj_ofy"
      },
      "execution_count": null,
      "outputs": []
    },
    {
      "cell_type": "markdown",
      "source": [
        "**Train Test Split**"
      ],
      "metadata": {
        "id": "BO4Id6m5fWA5"
      }
    },
    {
      "cell_type": "code",
      "source": [
        "train_df,test_df = df_transformed.randomSplit([0.8,0.2], seed= 1234)"
      ],
      "metadata": {
        "id": "qqlMKbsQfbK5"
      },
      "execution_count": null,
      "outputs": []
    },
    {
      "cell_type": "code",
      "source": [
        "test_df.show(5)"
      ],
      "metadata": {
        "colab": {
          "base_uri": "https://localhost:8080/"
        },
        "id": "KoaTtjm3ikrU",
        "outputId": "f5a1f39e-db47-4363-ba3e-06700358194f"
      },
      "execution_count": null,
      "outputs": [
        {
          "output_type": "stream",
          "name": "stdout",
          "text": [
            "+--------------------+----+-------------+---------+------+-----------+------------+------------+---------+---------+----------------+-----------------+----------+------------------+-------------+--------------+---------------+-------------+--------------------+--------------------+\n",
            "|                name|year|selling_price|km_driven|  fuel|seller_type|transmission|       owner|nameIndex|fuelIndex|seller_typeIndex|transmissionIndex|ownerIndex|           nameVec|      fuelVec|seller_typeVec|transmissionVec|     ownerVec|            features|     features_scaled|\n",
            "+--------------------+----+-------------+---------+------+-----------+------------+------------+---------+---------+----------------+-----------------+----------+------------------+-------------+--------------+---------------+-------------+--------------------+--------------------+\n",
            "|Ambassador CLASSI...|2005|       120000|    50000|Diesel| Individual|      Manual|Second Owner|    477.0|      0.0|             0.0|              0.0|       1.0|(1490,[477],[1.0])|(4,[0],[1.0])| (2,[0],[1.0])|  (1,[0],[1.0])|(4,[1],[1.0])|(1503,[477,1490,1...|(1503,[477,1490,1...|\n",
            "|    Audi A4 1.8 TFSI|2012|      1200000|    60000|Petrol| Individual|   Automatic| Third Owner|    798.0|      1.0|             0.0|              1.0|       2.0|(1490,[798],[1.0])|(4,[1],[1.0])| (2,[0],[1.0])|      (1,[],[])|(4,[2],[1.0])|(1503,[798,1490,1...|(1503,[798,1490,1...|\n",
            "|Audi A4 30 TFSI T...|2018|      3100000|    22000|Petrol| Individual|   Automatic| First Owner|    479.0|      1.0|             0.0|              1.0|       0.0|(1490,[479],[1.0])|(4,[1],[1.0])| (2,[0],[1.0])|      (1,[],[])|(4,[0],[1.0])|(1503,[479,1490,1...|(1503,[479,1490,1...|\n",
            "|Audi A4 New  2.0 ...|2014|      1549000|    42215|Diesel|     Dealer|   Automatic| First Owner|    802.0|      0.0|             1.0|              1.0|       0.0|(1490,[802],[1.0])|(4,[0],[1.0])| (2,[1],[1.0])|      (1,[],[])|(4,[0],[1.0])|(1503,[802,1490,1...|(1503,[802,1490,1...|\n",
            "|   Audi A5 Sportback|2020|      4700000|     1500|Diesel| Individual|   Automatic| First Owner|    803.0|      0.0|             0.0|              1.0|       0.0|(1490,[803],[1.0])|(4,[0],[1.0])| (2,[0],[1.0])|      (1,[],[])|(4,[0],[1.0])|(1503,[803,1490,1...|(1503,[803,1490,1...|\n",
            "+--------------------+----+-------------+---------+------+-----------+------------+------------+---------+---------+----------------+-----------------+----------+------------------+-------------+--------------+---------------+-------------+--------------------+--------------------+\n",
            "only showing top 5 rows\n",
            "\n"
          ]
        }
      ]
    },
    {
      "cell_type": "markdown",
      "source": [
        "**Linear Regression**"
      ],
      "metadata": {
        "id": "1uwDlqt8fv2V"
      }
    },
    {
      "cell_type": "code",
      "source": [
        "from pyspark.ml.regression import LinearRegression\n",
        "\n",
        "model_lr = LinearRegression(featuresCol = 'features_scaled', labelCol='selling_price', maxIter=10, regParam=0.3, elasticNetParam=0.8)\n"
      ],
      "metadata": {
        "id": "8L82yWJSfneJ"
      },
      "execution_count": null,
      "outputs": []
    },
    {
      "cell_type": "code",
      "source": [
        "# now fitting the model\n",
        "\n",
        "lr = model_lr.fit(train_df)\n",
        "\n",
        "# on test data\n",
        "#df_transformed_test = basePipe.fit(test_df).transform(test_df)\n",
        "pred = lr.transform(test_df)"
      ],
      "metadata": {
        "id": "z42srxmygamG"
      },
      "execution_count": null,
      "outputs": []
    },
    {
      "cell_type": "code",
      "source": [
        "pred.show()"
      ],
      "metadata": {
        "colab": {
          "base_uri": "https://localhost:8080/"
        },
        "id": "6vXGTItBziuY",
        "outputId": "ab421870-9c2f-40bb-be3b-171abff92a6e"
      },
      "execution_count": null,
      "outputs": [
        {
          "output_type": "stream",
          "name": "stdout",
          "text": [
            "+--------------------+----+-------------+---------+------+-----------+------------+------------+---------+---------+----------------+-----------------+----------+------------------+-------------+--------------+---------------+-------------+--------------------+--------------------+------------------+\n",
            "|                name|year|selling_price|km_driven|  fuel|seller_type|transmission|       owner|nameIndex|fuelIndex|seller_typeIndex|transmissionIndex|ownerIndex|           nameVec|      fuelVec|seller_typeVec|transmissionVec|     ownerVec|            features|     features_scaled|        prediction|\n",
            "+--------------------+----+-------------+---------+------+-----------+------------+------------+---------+---------+----------------+-----------------+----------+------------------+-------------+--------------+---------------+-------------+--------------------+--------------------+------------------+\n",
            "|Ambassador CLASSI...|2005|       120000|    50000|Diesel| Individual|      Manual|Second Owner|    477.0|      0.0|             0.0|              0.0|       1.0|(1490,[477],[1.0])|(4,[0],[1.0])| (2,[0],[1.0])|  (1,[0],[1.0])|(4,[1],[1.0])|(1503,[477,1490,1...|(1503,[477,1490,1...|117815.70322464406|\n",
            "|    Audi A4 1.8 TFSI|2012|      1200000|    60000|Petrol| Individual|   Automatic| Third Owner|    798.0|      1.0|             0.0|              1.0|       2.0|(1490,[798],[1.0])|(4,[1],[1.0])| (2,[0],[1.0])|      (1,[],[])|(4,[2],[1.0])|(1503,[798,1490,1...|(1503,[798,1490,1...| 737614.0689628348|\n",
            "|Audi A4 30 TFSI T...|2018|      3100000|    22000|Petrol| Individual|   Automatic| First Owner|    479.0|      1.0|             0.0|              1.0|       0.0|(1490,[479],[1.0])|(4,[1],[1.0])| (2,[0],[1.0])|      (1,[],[])|(4,[0],[1.0])|(1503,[479,1490,1...|(1503,[479,1490,1...|3102543.8349751458|\n",
            "|Audi A4 New  2.0 ...|2014|      1549000|    42215|Diesel|     Dealer|   Automatic| First Owner|    802.0|      0.0|             1.0|              1.0|       0.0|(1490,[802],[1.0])|(4,[0],[1.0])| (2,[1],[1.0])|      (1,[],[])|(4,[0],[1.0])|(1503,[802,1490,1...|(1503,[802,1490,1...|1028463.5604274198|\n",
            "|   Audi A5 Sportback|2020|      4700000|     1500|Diesel| Individual|   Automatic| First Owner|    803.0|      0.0|             0.0|              1.0|       0.0|(1490,[803],[1.0])|(4,[0],[1.0])| (2,[0],[1.0])|      (1,[],[])|(4,[0],[1.0])|(1503,[803,1490,1...|(1503,[803,1490,1...|1175917.1715753973|\n",
            "|Audi A6 2.0 TDI  ...|2013|      1735000|    50000|Diesel|     Dealer|   Automatic| First Owner|    304.0|      0.0|             1.0|              1.0|       0.0|(1490,[304],[1.0])|(4,[0],[1.0])| (2,[1],[1.0])|      (1,[],[])|(4,[0],[1.0])|(1503,[304,1490,1...|(1503,[304,1490,1...|1758643.9990530983|\n",
            "|Audi A6 2.0 TDI  ...|2014|      1750000|   102354|Diesel|     Dealer|   Automatic| First Owner|    304.0|      0.0|             1.0|              1.0|       0.0|(1490,[304],[1.0])|(4,[0],[1.0])| (2,[1],[1.0])|      (1,[],[])|(4,[0],[1.0])|(1503,[304,1490,1...|(1503,[304,1490,1...| 1750794.236636363|\n",
            "|Audi A6 2.0 TDI P...|2013|      1300000|    58500|Diesel|     Dealer|   Automatic| First Owner|     36.0|      0.0|             1.0|              1.0|       0.0| (1490,[36],[1.0])|(4,[0],[1.0])| (2,[1],[1.0])|      (1,[],[])|(4,[0],[1.0])|(1503,[36,1490,14...|(1503,[36,1490,14...|  1327948.30795566|\n",
            "|     Audi A8 4.2 TDI|2013|      2800000|    49000|Diesel|     Dealer|   Automatic| First Owner|    480.0|      0.0|             1.0|              1.0|       0.0|(1490,[480],[1.0])|(4,[0],[1.0])| (2,[1],[1.0])|      (1,[],[])|(4,[0],[1.0])|(1503,[480,1490,1...|(1503,[480,1490,1...| 2797994.189806901|\n",
            "|Audi Q3 2.0 TDI Q...|2012|      1400000|   118000|Diesel| Individual|   Automatic|Second Owner|    213.0|      0.0|             0.0|              1.0|       1.0|(1490,[213],[1.0])|(4,[0],[1.0])| (2,[0],[1.0])|      (1,[],[])|(4,[1],[1.0])|(1503,[213,1490,1...|(1503,[213,1490,1...|  1475726.09039478|\n",
            "|Audi Q3 35 TDI Qu...|2018|      2700000|    25000|Diesel| Individual|   Automatic| First Owner|    481.0|      0.0|             0.0|              1.0|       0.0|(1490,[481],[1.0])|(4,[0],[1.0])| (2,[0],[1.0])|      (1,[],[])|(4,[0],[1.0])|(1503,[481,1490,1...|(1503,[481,1490,1...| 2591119.601551987|\n",
            "|Audi Q5 2.0 TFSI ...|2010|      1100000|   110000|Petrol| Individual|   Automatic| First Owner|    807.0|      1.0|             0.0|              1.0|       0.0|(1490,[807],[1.0])|(4,[1],[1.0])| (2,[0],[1.0])|      (1,[],[])|(4,[0],[1.0])|(1503,[807,1490,1...|(1503,[807,1490,1...| 686880.9814539775|\n",
            "|Audi Q5 2.0 TFSI ...|2014|      1850000|    62237|Petrol|     Dealer|   Automatic| First Owner|    482.0|      1.0|             1.0|              1.0|       0.0|(1490,[482],[1.0])|(4,[1],[1.0])| (2,[1],[1.0])|      (1,[],[])|(4,[0],[1.0])|(1503,[482,1490,1...|(1503,[482,1490,1...| 819029.6715861782|\n",
            "|Audi Q5 2.0 TFSI ...|2014|      1850000|    62237|Petrol|     Dealer|   Automatic| First Owner|    482.0|      1.0|             1.0|              1.0|       0.0|(1490,[482],[1.0])|(4,[1],[1.0])| (2,[1],[1.0])|      (1,[],[])|(4,[0],[1.0])|(1503,[482,1490,1...|(1503,[482,1490,1...| 819029.6715861782|\n",
            "|Audi RS7 2015-201...|2016|      8900000|    13000|Petrol|     Dealer|   Automatic| First Owner|    809.0|      1.0|             1.0|              1.0|       0.0|(1490,[809],[1.0])|(4,[1],[1.0])| (2,[1],[1.0])|      (1,[],[])|(4,[0],[1.0])|(1503,[809,1490,1...|(1503,[809,1490,1...| 893405.4272559285|\n",
            "|BMW 3 Series 320d...|2018|      2300000|    39000|Diesel| Individual|   Automatic| First Owner|    307.0|      0.0|             0.0|              1.0|       0.0|(1490,[307],[1.0])|(4,[0],[1.0])| (2,[0],[1.0])|      (1,[],[])|(4,[0],[1.0])|(1503,[307,1490,1...|(1503,[307,1490,1...| 2224587.267265357|\n",
            "|BMW 5 Series 520d...|2017|      2900000|    40000|Diesel| Individual|   Automatic| First Owner|    214.0|      0.0|             0.0|              1.0|       0.0|(1490,[214],[1.0])|(4,[0],[1.0])| (2,[0],[1.0])|      (1,[],[])|(4,[0],[1.0])|(1503,[214,1490,1...|(1503,[214,1490,1...|4743796.2192309275|\n",
            "|BMW 5 Series 520d...|2017|      2900000|    40000|Diesel| Individual|   Automatic| First Owner|    214.0|      0.0|             0.0|              1.0|       0.0|(1490,[214],[1.0])|(4,[0],[1.0])| (2,[0],[1.0])|      (1,[],[])|(4,[0],[1.0])|(1503,[214,1490,1...|(1503,[214,1490,1...|4743796.2192309275|\n",
            "|   BMW 5 Series 530i|2006|       480000|   110000|Petrol| Individual|   Automatic|Second Owner|    813.0|      1.0|             0.0|              1.0|       1.0|(1490,[813],[1.0])|(4,[1],[1.0])| (2,[0],[1.0])|      (1,[],[])|(4,[1],[1.0])|(1503,[813,1490,1...|(1503,[813,1490,1...| 580622.6788856909|\n",
            "|BMW X1 sDrive 20d...|2017|      2750000|    13000|Diesel| Individual|   Automatic| First Owner|    161.0|      0.0|             0.0|              1.0|       0.0|(1490,[161],[1.0])|(4,[0],[1.0])| (2,[0],[1.0])|      (1,[],[])|(4,[0],[1.0])|(1503,[161,1490,1...|(1503,[161,1490,1...|2572313.4930350035|\n",
            "+--------------------+----+-------------+---------+------+-----------+------------+------------+---------+---------+----------------+-----------------+----------+------------------+-------------+--------------+---------------+-------------+--------------------+--------------------+------------------+\n",
            "only showing top 20 rows\n",
            "\n"
          ]
        }
      ]
    },
    {
      "cell_type": "markdown",
      "source": [
        "**Model evaluation**"
      ],
      "metadata": {
        "id": "RvxuqUIApphf"
      }
    },
    {
      "cell_type": "code",
      "source": [
        "from pyspark.ml.evaluation import RegressionEvaluator\n",
        "eval = RegressionEvaluator(labelCol = 'selling_price')\n",
        "rmse = eval.evaluate(pred, {eval.metricName:'rmse'})\n",
        "r2 =eval.evaluate(pred,{eval.metricName:'r2'})"
      ],
      "metadata": {
        "id": "cASQ_-34poP1"
      },
      "execution_count": null,
      "outputs": []
    },
    {
      "cell_type": "code",
      "source": [
        "print(\"RMSE: %.2f\" %rmse)\n",
        "#print(\"MAE: %.2f\" %mae)\n",
        "print(\"R2: %.2f\" %r2)"
      ],
      "metadata": {
        "colab": {
          "base_uri": "https://localhost:8080/"
        },
        "id": "14MWQu5VB_26",
        "outputId": "a30917e1-d664-4dc7-dc31-b44118829a83"
      },
      "execution_count": null,
      "outputs": [
        {
          "output_type": "stream",
          "name": "stdout",
          "text": [
            "RMSE: 444778.43\n",
            "R2: 0.60\n"
          ]
        }
      ]
    },
    {
      "cell_type": "markdown",
      "source": [
        "**Decision tree regressor**"
      ],
      "metadata": {
        "id": "deBUXY-HCYJl"
      }
    },
    {
      "cell_type": "code",
      "source": [
        "from pyspark.ml.regression import DecisionTreeRegressor\n",
        "dt = DecisionTreeRegressor(featuresCol= 'features_scaled', labelCol= 'selling_price', maxDepth= 15)\n",
        "model_dt = dt.fit(train_df)\n",
        "pred_dt = model_dt.transform(test_df)\n",
        "\n"
      ],
      "metadata": {
        "id": "wDwT-YxkCeyM"
      },
      "execution_count": null,
      "outputs": []
    },
    {
      "cell_type": "code",
      "source": [
        "pred_dt.show(10)"
      ],
      "metadata": {
        "colab": {
          "base_uri": "https://localhost:8080/"
        },
        "id": "hST8r_VqEshi",
        "outputId": "0f05751d-b911-44ac-bebe-7f401c057fe7"
      },
      "execution_count": null,
      "outputs": [
        {
          "output_type": "stream",
          "name": "stdout",
          "text": [
            "+--------------------+----+-------------+---------+------+-----------+------------+------------+---------+---------+----------------+-----------------+----------+------------------+-------------+--------------+---------------+-------------+--------------------+--------------------+------------------+\n",
            "|                name|year|selling_price|km_driven|  fuel|seller_type|transmission|       owner|nameIndex|fuelIndex|seller_typeIndex|transmissionIndex|ownerIndex|           nameVec|      fuelVec|seller_typeVec|transmissionVec|     ownerVec|            features|     features_scaled|        prediction|\n",
            "+--------------------+----+-------------+---------+------+-----------+------------+------------+---------+---------+----------------+-----------------+----------+------------------+-------------+--------------+---------------+-------------+--------------------+--------------------+------------------+\n",
            "|Ambassador CLASSI...|2005|       120000|    50000|Diesel| Individual|      Manual|Second Owner|    477.0|      0.0|             0.0|              0.0|       1.0|(1490,[477],[1.0])|(4,[0],[1.0])| (2,[0],[1.0])|  (1,[0],[1.0])|(4,[1],[1.0])|(1503,[477,1490,1...|(1503,[477,1490,1...|173650.39805825244|\n",
            "|    Audi A4 1.8 TFSI|2012|      1200000|    60000|Petrol| Individual|   Automatic| Third Owner|    798.0|      1.0|             0.0|              1.0|       2.0|(1490,[798],[1.0])|(4,[1],[1.0])| (2,[0],[1.0])|      (1,[],[])|(4,[2],[1.0])|(1503,[798,1490,1...|(1503,[798,1490,1...| 384111.0740740741|\n",
            "|Audi A4 30 TFSI T...|2018|      3100000|    22000|Petrol| Individual|   Automatic| First Owner|    479.0|      1.0|             0.0|              1.0|       0.0|(1490,[479],[1.0])|(4,[1],[1.0])| (2,[0],[1.0])|      (1,[],[])|(4,[0],[1.0])|(1503,[479,1490,1...|(1503,[479,1490,1...|         3100000.0|\n",
            "|Audi A4 New  2.0 ...|2014|      1549000|    42215|Diesel|     Dealer|   Automatic| First Owner|    802.0|      0.0|             1.0|              1.0|       0.0|(1490,[802],[1.0])|(4,[0],[1.0])| (2,[1],[1.0])|      (1,[],[])|(4,[0],[1.0])|(1503,[802,1490,1...|(1503,[802,1490,1...|         1093500.0|\n",
            "|   Audi A5 Sportback|2020|      4700000|     1500|Diesel| Individual|   Automatic| First Owner|    803.0|      0.0|             0.0|              1.0|       0.0|(1490,[803],[1.0])|(4,[0],[1.0])| (2,[0],[1.0])|      (1,[],[])|(4,[0],[1.0])|(1503,[803,1490,1...|(1503,[803,1490,1...|2319609.7560975607|\n",
            "|Audi A6 2.0 TDI  ...|2013|      1735000|    50000|Diesel|     Dealer|   Automatic| First Owner|    304.0|      0.0|             1.0|              1.0|       0.0|(1490,[304],[1.0])|(4,[0],[1.0])| (2,[1],[1.0])|      (1,[],[])|(4,[0],[1.0])|(1503,[304,1490,1...|(1503,[304,1490,1...|         1093500.0|\n",
            "|Audi A6 2.0 TDI  ...|2014|      1750000|   102354|Diesel|     Dealer|   Automatic| First Owner|    304.0|      0.0|             1.0|              1.0|       0.0|(1490,[304],[1.0])|(4,[0],[1.0])| (2,[1],[1.0])|      (1,[],[])|(4,[0],[1.0])|(1503,[304,1490,1...|(1503,[304,1490,1...|1841666.6666666667|\n",
            "|Audi A6 2.0 TDI P...|2013|      1300000|    58500|Diesel|     Dealer|   Automatic| First Owner|     36.0|      0.0|             1.0|              1.0|       0.0| (1490,[36],[1.0])|(4,[0],[1.0])| (2,[1],[1.0])|      (1,[],[])|(4,[0],[1.0])|(1503,[36,1490,14...|(1503,[36,1490,14...|         1093500.0|\n",
            "|     Audi A8 4.2 TDI|2013|      2800000|    49000|Diesel|     Dealer|   Automatic| First Owner|    480.0|      0.0|             1.0|              1.0|       0.0|(1490,[480],[1.0])|(4,[0],[1.0])| (2,[1],[1.0])|      (1,[],[])|(4,[0],[1.0])|(1503,[480,1490,1...|(1503,[480,1490,1...|         2800000.0|\n",
            "|Audi Q3 2.0 TDI Q...|2012|      1400000|   118000|Diesel| Individual|   Automatic|Second Owner|    213.0|      0.0|             0.0|              1.0|       1.0|(1490,[213],[1.0])|(4,[0],[1.0])| (2,[0],[1.0])|      (1,[],[])|(4,[1],[1.0])|(1503,[213,1490,1...|(1503,[213,1490,1...|         1187500.0|\n",
            "+--------------------+----+-------------+---------+------+-----------+------------+------------+---------+---------+----------------+-----------------+----------+------------------+-------------+--------------+---------------+-------------+--------------------+--------------------+------------------+\n",
            "only showing top 10 rows\n",
            "\n"
          ]
        }
      ]
    },
    {
      "cell_type": "markdown",
      "source": [
        "**Model evaluation**"
      ],
      "metadata": {
        "id": "2oME4zcDEyhY"
      }
    },
    {
      "cell_type": "code",
      "source": [
        "eval_dt = RegressionEvaluator(labelCol = 'selling_price')\n",
        "rmse_dt = eval_dt.evaluate(pred_dt, {eval_dt.metricName:'rmse'})\n",
        "r2_dt =eval_dt.evaluate(pred_dt,{eval_dt.metricName:'r2'})"
      ],
      "metadata": {
        "id": "QJXUtWZIExGH"
      },
      "execution_count": null,
      "outputs": []
    },
    {
      "cell_type": "code",
      "source": [
        "print(\"RMSE: %.2f\" %rmse_dt)\n",
        "#print(\"MAE: %.2f\" %mae)\n",
        "print(\"R2: %.2f\" %r2_dt)"
      ],
      "metadata": {
        "colab": {
          "base_uri": "https://localhost:8080/"
        },
        "id": "ePDB9Ym-Fk7P",
        "outputId": "a46dd386-a764-41be-c5f6-e0450366881d"
      },
      "execution_count": null,
      "outputs": [
        {
          "output_type": "stream",
          "name": "stdout",
          "text": [
            "RMSE: 455618.41\n",
            "R2: 0.59\n"
          ]
        }
      ]
    },
    {
      "cell_type": "markdown",
      "source": [
        "**RANDOM FOREST REGRESSOR**"
      ],
      "metadata": {
        "id": "NLaQMBQ7IErc"
      }
    },
    {
      "cell_type": "code",
      "source": [
        "from pyspark.ml.regression import RandomForestRegressor\n",
        "rf = RandomForestRegressor(featuresCol= 'features_scaled', labelCol= 'selling_price', maxDepth= 10, numTrees= 100)\n",
        "model_rf = rf.fit(train_df)\n",
        "pred_rf = model_rf.transform(test_df)\n",
        "\n"
      ],
      "metadata": {
        "id": "_wi3f3lpICdH"
      },
      "execution_count": null,
      "outputs": []
    },
    {
      "cell_type": "code",
      "source": [
        "pred_rf.show(10)"
      ],
      "metadata": {
        "colab": {
          "base_uri": "https://localhost:8080/"
        },
        "id": "oeeS4nD5KbL3",
        "outputId": "340c7083-d460-4b5d-b3b0-6cde652745f6"
      },
      "execution_count": null,
      "outputs": [
        {
          "output_type": "stream",
          "name": "stdout",
          "text": [
            "+--------------------+----+-------------+---------+------+-----------+------------+------------+---------+---------+----------------+-----------------+----------+------------------+-------------+--------------+---------------+-------------+--------------------+--------------------+------------------+\n",
            "|                name|year|selling_price|km_driven|  fuel|seller_type|transmission|       owner|nameIndex|fuelIndex|seller_typeIndex|transmissionIndex|ownerIndex|           nameVec|      fuelVec|seller_typeVec|transmissionVec|     ownerVec|            features|     features_scaled|        prediction|\n",
            "+--------------------+----+-------------+---------+------+-----------+------------+------------+---------+---------+----------------+-----------------+----------+------------------+-------------+--------------+---------------+-------------+--------------------+--------------------+------------------+\n",
            "|Ambassador CLASSI...|2005|       120000|    50000|Diesel| Individual|      Manual|Second Owner|    477.0|      0.0|             0.0|              0.0|       1.0|(1490,[477],[1.0])|(4,[0],[1.0])| (2,[0],[1.0])|  (1,[0],[1.0])|(4,[1],[1.0])|(1503,[477,1490,1...|(1503,[477,1490,1...|207458.08009316176|\n",
            "|    Audi A4 1.8 TFSI|2012|      1200000|    60000|Petrol| Individual|   Automatic| Third Owner|    798.0|      1.0|             0.0|              1.0|       2.0|(1490,[798],[1.0])|(4,[1],[1.0])| (2,[0],[1.0])|      (1,[],[])|(4,[2],[1.0])|(1503,[798,1490,1...|(1503,[798,1490,1...| 452534.6479350897|\n",
            "|Audi A4 30 TFSI T...|2018|      3100000|    22000|Petrol| Individual|   Automatic| First Owner|    479.0|      1.0|             0.0|              1.0|       0.0|(1490,[479],[1.0])|(4,[1],[1.0])| (2,[0],[1.0])|      (1,[],[])|(4,[0],[1.0])|(1503,[479,1490,1...|(1503,[479,1490,1...|  2109447.33598042|\n",
            "|Audi A4 New  2.0 ...|2014|      1549000|    42215|Diesel|     Dealer|   Automatic| First Owner|    802.0|      0.0|             1.0|              1.0|       0.0|(1490,[802],[1.0])|(4,[0],[1.0])| (2,[1],[1.0])|      (1,[],[])|(4,[0],[1.0])|(1503,[802,1490,1...|(1503,[802,1490,1...|1635717.6949545844|\n",
            "|   Audi A5 Sportback|2020|      4700000|     1500|Diesel| Individual|   Automatic| First Owner|    803.0|      0.0|             0.0|              1.0|       0.0|(1490,[803],[1.0])|(4,[0],[1.0])| (2,[0],[1.0])|      (1,[],[])|(4,[0],[1.0])|(1503,[803,1490,1...|(1503,[803,1490,1...|2068485.3887080776|\n",
            "|Audi A6 2.0 TDI  ...|2013|      1735000|    50000|Diesel|     Dealer|   Automatic| First Owner|    304.0|      0.0|             1.0|              1.0|       0.0|(1490,[304],[1.0])|(4,[0],[1.0])| (2,[1],[1.0])|      (1,[],[])|(4,[0],[1.0])|(1503,[304,1490,1...|(1503,[304,1490,1...|1335006.6570290707|\n",
            "|Audi A6 2.0 TDI  ...|2014|      1750000|   102354|Diesel|     Dealer|   Automatic| First Owner|    304.0|      0.0|             1.0|              1.0|       0.0|(1490,[304],[1.0])|(4,[0],[1.0])| (2,[1],[1.0])|      (1,[],[])|(4,[0],[1.0])|(1503,[304,1490,1...|(1503,[304,1490,1...| 1448350.545929878|\n",
            "|Audi A6 2.0 TDI P...|2013|      1300000|    58500|Diesel|     Dealer|   Automatic| First Owner|     36.0|      0.0|             1.0|              1.0|       0.0| (1490,[36],[1.0])|(4,[0],[1.0])| (2,[1],[1.0])|      (1,[],[])|(4,[0],[1.0])|(1503,[36,1490,14...|(1503,[36,1490,14...| 1361847.286287929|\n",
            "|     Audi A8 4.2 TDI|2013|      2800000|    49000|Diesel|     Dealer|   Automatic| First Owner|    480.0|      0.0|             1.0|              1.0|       0.0|(1490,[480],[1.0])|(4,[0],[1.0])| (2,[1],[1.0])|      (1,[],[])|(4,[0],[1.0])|(1503,[480,1490,1...|(1503,[480,1490,1...|1635404.7604213823|\n",
            "|Audi Q3 2.0 TDI Q...|2012|      1400000|   118000|Diesel| Individual|   Automatic|Second Owner|    213.0|      0.0|             0.0|              1.0|       1.0|(1490,[213],[1.0])|(4,[0],[1.0])| (2,[0],[1.0])|      (1,[],[])|(4,[1],[1.0])|(1503,[213,1490,1...|(1503,[213,1490,1...|1134068.0883571834|\n",
            "+--------------------+----+-------------+---------+------+-----------+------------+------------+---------+---------+----------------+-----------------+----------+------------------+-------------+--------------+---------------+-------------+--------------------+--------------------+------------------+\n",
            "only showing top 10 rows\n",
            "\n"
          ]
        }
      ]
    },
    {
      "cell_type": "markdown",
      "source": [
        "**Model evaluation**"
      ],
      "metadata": {
        "id": "OOR_R38TKgST"
      }
    },
    {
      "cell_type": "code",
      "source": [
        "eval_rf = RegressionEvaluator(labelCol = 'selling_price')\n",
        "rmse_rf = eval_rf.evaluate(pred_rf, {eval_rf.metricName:'rmse'})\n",
        "r2_rf =eval_rf.evaluate(pred_rf,{eval_rf.metricName:'r2'})"
      ],
      "metadata": {
        "id": "a8-ObhZjKomr"
      },
      "execution_count": null,
      "outputs": []
    },
    {
      "cell_type": "code",
      "source": [
        "print(\"RMSE: %.2f\" %rmse_rf)\n",
        "#print(\"MAE: %.2f\" %mae)\n",
        "print(\"R2: %.2f\" %r2_rf)"
      ],
      "metadata": {
        "colab": {
          "base_uri": "https://localhost:8080/"
        },
        "id": "y7ap5ERuLCgj",
        "outputId": "477c3b0a-a412-42d5-9db4-e1db34b58b29"
      },
      "execution_count": null,
      "outputs": [
        {
          "output_type": "stream",
          "name": "stdout",
          "text": [
            "RMSE: 450742.19\n",
            "R2: 0.59\n"
          ]
        }
      ]
    },
    {
      "cell_type": "markdown",
      "source": [
        "**GBT REGRESSOR**"
      ],
      "metadata": {
        "id": "E7bSfNcJM_qA"
      }
    },
    {
      "cell_type": "code",
      "source": [
        "from pyspark.ml.regression import GBTRegressor\n",
        "gbt = GBTRegressor(featuresCol= 'features_scaled', labelCol= 'selling_price')\n",
        "model_gbt = gbt.fit(train_df)\n",
        "pred_gbt = model_gbt.transform(test_df)"
      ],
      "metadata": {
        "id": "kgMTDqC7NEMN"
      },
      "execution_count": null,
      "outputs": []
    },
    {
      "cell_type": "markdown",
      "source": [
        "**Model evaluation**"
      ],
      "metadata": {
        "id": "vRwscNbIQbWm"
      }
    },
    {
      "cell_type": "code",
      "source": [
        "eval_gbt = RegressionEvaluator(labelCol = 'selling_price')\n",
        "rmse_gbt = eval_gbt.evaluate(pred_gbt, {eval_gbt.metricName:'rmse'})\n",
        "r2_gbt =eval_gbt.evaluate(pred_gbt,{eval_gbt.metricName:'r2'})"
      ],
      "metadata": {
        "id": "6cn1hWBCQaiH"
      },
      "execution_count": null,
      "outputs": []
    },
    {
      "cell_type": "code",
      "source": [
        "print(\"RMSE: %.2f\" %rmse_gbt)\n",
        "#print(\"MAE: %.2f\" %mae)\n",
        "print(\"R2: %.2f\" %r2_gbt)"
      ],
      "metadata": {
        "colab": {
          "base_uri": "https://localhost:8080/"
        },
        "id": "oH5Qux7fQ5m4",
        "outputId": "a278cdfd-725f-46d2-810c-f9f27aff805f"
      },
      "execution_count": null,
      "outputs": [
        {
          "output_type": "stream",
          "name": "stdout",
          "text": [
            "RMSE: 465455.54\n",
            "R2: 0.57\n"
          ]
        }
      ]
    }
  ]
}